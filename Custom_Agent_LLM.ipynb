{
  "cells": [
    {
      "cell_type": "markdown",
      "id": "ba5f8741",
      "metadata": {
        "id": "ba5f8741"
      },
      "source": [
        "# Custom multi-action agent\n",
        "\n",
        "This notebook goes through how to create your own custom agent.\n",
        "\n",
        "An agent consists of two parts:\n",
        "\n",
        "- Tools: The tools the agent has available to use.\n",
        "- The agent class itself: this decides which action to take.\n",
        "        \n",
        "        \n",
        "In this notebook we walk through how to create a custom agent that predicts/takes multiple steps at a time."
      ]
    },
    {
      "cell_type": "code",
      "source": [
        "!pip install langchain"
      ],
      "metadata": {
        "colab": {
          "base_uri": "https://localhost:8080/"
        },
        "id": "I2D85RKNcH2J",
        "outputId": "2597df08-7656-45e5-8cbe-be53fd9ec39d"
      },
      "id": "I2D85RKNcH2J",
      "execution_count": 9,
      "outputs": [
        {
          "output_type": "stream",
          "name": "stdout",
          "text": [
            "Requirement already satisfied: langchain in /usr/local/lib/python3.10/dist-packages (0.1.16)\n",
            "Requirement already satisfied: PyYAML>=5.3 in /usr/local/lib/python3.10/dist-packages (from langchain) (6.0.1)\n",
            "Requirement already satisfied: SQLAlchemy<3,>=1.4 in /usr/local/lib/python3.10/dist-packages (from langchain) (2.0.29)\n",
            "Requirement already satisfied: aiohttp<4.0.0,>=3.8.3 in /usr/local/lib/python3.10/dist-packages (from langchain) (3.9.3)\n",
            "Requirement already satisfied: async-timeout<5.0.0,>=4.0.0 in /usr/local/lib/python3.10/dist-packages (from langchain) (4.0.3)\n",
            "Requirement already satisfied: dataclasses-json<0.7,>=0.5.7 in /usr/local/lib/python3.10/dist-packages (from langchain) (0.6.4)\n",
            "Requirement already satisfied: jsonpatch<2.0,>=1.33 in /usr/local/lib/python3.10/dist-packages (from langchain) (1.33)\n",
            "Requirement already satisfied: langchain-community<0.1,>=0.0.32 in /usr/local/lib/python3.10/dist-packages (from langchain) (0.0.32)\n",
            "Requirement already satisfied: langchain-core<0.2.0,>=0.1.42 in /usr/local/lib/python3.10/dist-packages (from langchain) (0.1.42)\n",
            "Requirement already satisfied: langchain-text-splitters<0.1,>=0.0.1 in /usr/local/lib/python3.10/dist-packages (from langchain) (0.0.1)\n",
            "Requirement already satisfied: langsmith<0.2.0,>=0.1.17 in /usr/local/lib/python3.10/dist-packages (from langchain) (0.1.47)\n",
            "Requirement already satisfied: numpy<2,>=1 in /usr/local/lib/python3.10/dist-packages (from langchain) (1.25.2)\n",
            "Requirement already satisfied: pydantic<3,>=1 in /usr/local/lib/python3.10/dist-packages (from langchain) (2.6.4)\n",
            "Requirement already satisfied: requests<3,>=2 in /usr/local/lib/python3.10/dist-packages (from langchain) (2.31.0)\n",
            "Requirement already satisfied: tenacity<9.0.0,>=8.1.0 in /usr/local/lib/python3.10/dist-packages (from langchain) (8.2.3)\n",
            "Requirement already satisfied: aiosignal>=1.1.2 in /usr/local/lib/python3.10/dist-packages (from aiohttp<4.0.0,>=3.8.3->langchain) (1.3.1)\n",
            "Requirement already satisfied: attrs>=17.3.0 in /usr/local/lib/python3.10/dist-packages (from aiohttp<4.0.0,>=3.8.3->langchain) (23.2.0)\n",
            "Requirement already satisfied: frozenlist>=1.1.1 in /usr/local/lib/python3.10/dist-packages (from aiohttp<4.0.0,>=3.8.3->langchain) (1.4.1)\n",
            "Requirement already satisfied: multidict<7.0,>=4.5 in /usr/local/lib/python3.10/dist-packages (from aiohttp<4.0.0,>=3.8.3->langchain) (6.0.5)\n",
            "Requirement already satisfied: yarl<2.0,>=1.0 in /usr/local/lib/python3.10/dist-packages (from aiohttp<4.0.0,>=3.8.3->langchain) (1.9.4)\n",
            "Requirement already satisfied: marshmallow<4.0.0,>=3.18.0 in /usr/local/lib/python3.10/dist-packages (from dataclasses-json<0.7,>=0.5.7->langchain) (3.21.1)\n",
            "Requirement already satisfied: typing-inspect<1,>=0.4.0 in /usr/local/lib/python3.10/dist-packages (from dataclasses-json<0.7,>=0.5.7->langchain) (0.9.0)\n",
            "Requirement already satisfied: jsonpointer>=1.9 in /usr/local/lib/python3.10/dist-packages (from jsonpatch<2.0,>=1.33->langchain) (2.4)\n",
            "Requirement already satisfied: packaging<24.0,>=23.2 in /usr/local/lib/python3.10/dist-packages (from langchain-core<0.2.0,>=0.1.42->langchain) (23.2)\n",
            "Requirement already satisfied: orjson<4.0.0,>=3.9.14 in /usr/local/lib/python3.10/dist-packages (from langsmith<0.2.0,>=0.1.17->langchain) (3.10.0)\n",
            "Requirement already satisfied: annotated-types>=0.4.0 in /usr/local/lib/python3.10/dist-packages (from pydantic<3,>=1->langchain) (0.6.0)\n",
            "Requirement already satisfied: pydantic-core==2.16.3 in /usr/local/lib/python3.10/dist-packages (from pydantic<3,>=1->langchain) (2.16.3)\n",
            "Requirement already satisfied: typing-extensions>=4.6.1 in /usr/local/lib/python3.10/dist-packages (from pydantic<3,>=1->langchain) (4.11.0)\n",
            "Requirement already satisfied: charset-normalizer<4,>=2 in /usr/local/lib/python3.10/dist-packages (from requests<3,>=2->langchain) (3.3.2)\n",
            "Requirement already satisfied: idna<4,>=2.5 in /usr/local/lib/python3.10/dist-packages (from requests<3,>=2->langchain) (3.6)\n",
            "Requirement already satisfied: urllib3<3,>=1.21.1 in /usr/local/lib/python3.10/dist-packages (from requests<3,>=2->langchain) (2.0.7)\n",
            "Requirement already satisfied: certifi>=2017.4.17 in /usr/local/lib/python3.10/dist-packages (from requests<3,>=2->langchain) (2024.2.2)\n",
            "Requirement already satisfied: greenlet!=0.4.17 in /usr/local/lib/python3.10/dist-packages (from SQLAlchemy<3,>=1.4->langchain) (3.0.3)\n",
            "Requirement already satisfied: mypy-extensions>=0.3.0 in /usr/local/lib/python3.10/dist-packages (from typing-inspect<1,>=0.4.0->dataclasses-json<0.7,>=0.5.7->langchain) (1.0.0)\n"
          ]
        }
      ]
    },
    {
      "cell_type": "code",
      "execution_count": 10,
      "id": "9af9734e",
      "metadata": {
        "id": "9af9734e"
      },
      "outputs": [],
      "source": [
        "from langchain.agents import AgentExecutor, BaseMultiActionAgent, Tool\n",
        "from langchain_community.utilities import SerpAPIWrapper"
      ]
    },
    {
      "cell_type": "code",
      "execution_count": 11,
      "id": "d7c4ebdc",
      "metadata": {
        "id": "d7c4ebdc"
      },
      "outputs": [],
      "source": [
        "def random_word(query: str) -> str:\n",
        "    print(\"\\nNow I'm doing this!\")\n",
        "    return \"foo\""
      ]
    },
    {
      "cell_type": "code",
      "source": [
        "import os"
      ],
      "metadata": {
        "id": "s9NpELsZomYa"
      },
      "id": "s9NpELsZomYa",
      "execution_count": 15,
      "outputs": []
    },
    {
      "cell_type": "code",
      "source": [
        "from google.colab import userdata\n",
        "SERPAPI_API_KEY=userdata.get('SERPAPI_API_KEY')"
      ],
      "metadata": {
        "id": "9-mFf0Ql-KX2"
      },
      "execution_count": 17,
      "outputs": [],
      "id": "9-mFf0Ql-KX2"
    },
    {
      "cell_type": "code",
      "source": [
        "os.environ[\"SERPAPI_API_KEY\"] = \"da17c0ef2d2f8363db481dace3c36bb05e06a9e4971028ec16bd4c98ede24c0d\""
      ],
      "metadata": {
        "id": "b4IjJdRdo-RL"
      },
      "id": "b4IjJdRdo-RL",
      "execution_count": 18,
      "outputs": []
    },
    {
      "cell_type": "code",
      "source": [
        "pip install google-search-results"
      ],
      "metadata": {
        "colab": {
          "base_uri": "https://localhost:8080/"
        },
        "id": "GVaGRvbIpX2J",
        "outputId": "9088c660-090c-416d-d522-5b95f734a4a5"
      },
      "id": "GVaGRvbIpX2J",
      "execution_count": 20,
      "outputs": [
        {
          "output_type": "stream",
          "name": "stdout",
          "text": [
            "Collecting google-search-results\n",
            "  Downloading google_search_results-2.4.2.tar.gz (18 kB)\n",
            "  Preparing metadata (setup.py) ... \u001b[?25l\u001b[?25hdone\n",
            "Requirement already satisfied: requests in /usr/local/lib/python3.10/dist-packages (from google-search-results) (2.31.0)\n",
            "Requirement already satisfied: charset-normalizer<4,>=2 in /usr/local/lib/python3.10/dist-packages (from requests->google-search-results) (3.3.2)\n",
            "Requirement already satisfied: idna<4,>=2.5 in /usr/local/lib/python3.10/dist-packages (from requests->google-search-results) (3.6)\n",
            "Requirement already satisfied: urllib3<3,>=1.21.1 in /usr/local/lib/python3.10/dist-packages (from requests->google-search-results) (2.0.7)\n",
            "Requirement already satisfied: certifi>=2017.4.17 in /usr/local/lib/python3.10/dist-packages (from requests->google-search-results) (2024.2.2)\n",
            "Building wheels for collected packages: google-search-results\n",
            "  Building wheel for google-search-results (setup.py) ... \u001b[?25l\u001b[?25hdone\n",
            "  Created wheel for google-search-results: filename=google_search_results-2.4.2-py3-none-any.whl size=32004 sha256=688a3ee1d4cf34b8ba02dd2af71721370e14055a23fe5c5d24324a85ee158acf\n",
            "  Stored in directory: /root/.cache/pip/wheels/d3/b2/c3/03302d12bb44a2cdff3c9371f31b72c0c4e84b8d2285eeac53\n",
            "Successfully built google-search-results\n",
            "Installing collected packages: google-search-results\n",
            "Successfully installed google-search-results-2.4.2\n"
          ]
        }
      ]
    },
    {
      "cell_type": "code",
      "execution_count": 21,
      "id": "becda2a1",
      "metadata": {
        "id": "becda2a1"
      },
      "outputs": [],
      "source": [
        "search = SerpAPIWrapper()\n",
        "tools = [\n",
        "    Tool(\n",
        "        name=\"Search\",\n",
        "        func=search.run,\n",
        "        description=\"useful for when you need to answer questions about current events\",\n",
        "    ),\n",
        "    Tool(\n",
        "        name=\"RandomWord\",\n",
        "        func=random_word,\n",
        "        description=\"call this to get a random word.\",\n",
        "    ),\n",
        "]"
      ]
    },
    {
      "cell_type": "code",
      "execution_count": 32,
      "id": "a33e2f7e",
      "metadata": {
        "id": "a33e2f7e"
      },
      "outputs": [],
      "source": [
        "from typing import Any, List, Tuple, Union\n",
        "\n",
        "from langchain_core.agents import AgentAction, AgentFinish\n",
        "\n",
        "\n",
        "class FakeAgent(BaseMultiActionAgent):\n",
        "    \"\"\"Fake Custom Agent.\"\"\"\n",
        "\n",
        "    @property\n",
        "    def input_keys(self):\n",
        "        return [\"input\"]\n",
        "\n",
        "    def plan(\n",
        "        self, intermediate_steps: List[Tuple[AgentAction, str]], **kwargs: Any\n",
        "    ) -> Union[List[AgentAction], AgentFinish]:\n",
        "        \"\"\"Given input, decided what to do.\n",
        "\n",
        "        Args:\n",
        "            intermediate_steps: Steps the LLM has taken to date,\n",
        "                along with observations\n",
        "            **kwargs: User inputs.\n",
        "\n",
        "        Returns:\n",
        "            Action specifying what tool to use.\n",
        "        \"\"\"\n",
        "        if len(intermediate_steps) == 0:\n",
        "            return [\n",
        "                AgentAction(tool=\"Search\", tool_input=kwargs[\"input\"], log=\"\"),\n",
        "                AgentAction(tool=\"RandomWord\", tool_input=kwargs[\"input\"], log=\"\"),\n",
        "            ]\n",
        "        else:\n",
        "            return AgentFinish(return_values={\"output\": \"bar\"}, log=\"\")\n",
        "\n",
        "    async def aplan(\n",
        "        self, intermediate_steps: List[Tuple[AgentAction, str]], **kwargs: Any\n",
        "    ) -> Union[List[AgentAction], AgentFinish]:\n",
        "        \"\"\"Given input, decided what to do.\n",
        "\n",
        "        Args:\n",
        "            intermediate_steps: Steps the LLM has taken to date,\n",
        "                along with observations\n",
        "            **kwargs: User inputs.\n",
        "\n",
        "        Returns:\n",
        "            Action specifying what tool to use.\n",
        "        \"\"\"\n",
        "        if len(intermediate_steps) == 0:\n",
        "            return [\n",
        "                AgentAction(tool=\"Search\", tool_input=kwargs[\"input\"], log=\"\"),\n",
        "                AgentAction(tool=\"RandomWord\", tool_input=kwargs[\"input\"], log=\"\"),\n",
        "            ]\n",
        "        else:\n",
        "            return AgentFinish(return_values={\"output\": \"bar\"}, log=\"\")"
      ]
    },
    {
      "cell_type": "code",
      "execution_count": 33,
      "id": "655d72f6",
      "metadata": {
        "id": "655d72f6"
      },
      "outputs": [],
      "source": [
        "agent = FakeAgent()"
      ]
    },
    {
      "cell_type": "code",
      "execution_count": 34,
      "id": "490604e9",
      "metadata": {
        "id": "490604e9"
      },
      "outputs": [],
      "source": [
        "agent_executor = AgentExecutor.from_agent_and_tools(\n",
        "    agent=agent, tools=tools, verbose=True\n",
        ")"
      ]
    },
    {
      "cell_type": "code",
      "execution_count": 35,
      "id": "653b1617",
      "metadata": {
        "id": "653b1617",
        "outputId": "ac7e8c46-a1b7-45b4-b8df-8b6402d82415",
        "colab": {
          "base_uri": "https://localhost:8080/",
          "height": 194
        }
      },
      "outputs": [
        {
          "output_type": "stream",
          "name": "stdout",
          "text": [
            "\n",
            "\n",
            "\u001b[1m> Entering new AgentExecutor chain...\u001b[0m\n",
            "\u001b[32;1m\u001b[1;3m\u001b[0m\u001b[36;1m\u001b[1;3mIn 2023, Canada's population jumped by over 1 million people for the first time in the country's history. The population now stands at 39.5 million and is set to pass the 40 million mark later this year.\u001b[0m\u001b[32;1m\u001b[1;3m\u001b[0m\n",
            "Now I'm doing this!\n",
            "\u001b[33;1m\u001b[1;3mfoo\u001b[0m\u001b[32;1m\u001b[1;3m\u001b[0m\n",
            "\n",
            "\u001b[1m> Finished chain.\u001b[0m\n"
          ]
        },
        {
          "output_type": "execute_result",
          "data": {
            "text/plain": [
              "'bar'"
            ],
            "application/vnd.google.colaboratory.intrinsic+json": {
              "type": "string"
            }
          },
          "metadata": {},
          "execution_count": 35
        }
      ],
      "source": [
        "agent_executor.run(\"How many people live in canada as of 2023?\")"
      ]
    },
    {
      "cell_type": "code",
      "execution_count": 26,
      "id": "adefb4c2",
      "metadata": {
        "id": "adefb4c2",
        "colab": {
          "base_uri": "https://localhost:8080/",
          "height": 174
        },
        "outputId": "61e311b8-bf05-4835-d784-4f4f34cf3cc2"
      },
      "outputs": [
        {
          "output_type": "stream",
          "name": "stdout",
          "text": [
            "\n",
            "\n",
            "\u001b[1m> Entering new AgentExecutor chain...\u001b[0m\n",
            "\u001b[32;1m\u001b[1;3m\u001b[0m\u001b[36;1m\u001b[1;3m1,425,775,850\u001b[0m\u001b[32;1m\u001b[1;3m\u001b[0m\n",
            "Now I'm doing this!\n",
            "\u001b[33;1m\u001b[1;3mfoo\u001b[0m\u001b[32;1m\u001b[1;3m\u001b[0m\n",
            "\n",
            "\u001b[1m> Finished chain.\u001b[0m\n"
          ]
        },
        {
          "output_type": "execute_result",
          "data": {
            "text/plain": [
              "'bar'"
            ],
            "application/vnd.google.colaboratory.intrinsic+json": {
              "type": "string"
            }
          },
          "metadata": {},
          "execution_count": 26
        }
      ],
      "source": [
        "agent_executor.run(\"How many people live in India as of 2023?\")"
      ]
    },
    {
      "cell_type": "code",
      "source": [
        "agent_executor.run(\"what is the capital of india?\")"
      ],
      "metadata": {
        "colab": {
          "base_uri": "https://localhost:8080/",
          "height": 174
        },
        "id": "qXYUHYojpmF3",
        "outputId": "4ff16488-a994-45ba-9193-b1d02364b3e3"
      },
      "id": "qXYUHYojpmF3",
      "execution_count": 29,
      "outputs": [
        {
          "output_type": "stream",
          "name": "stdout",
          "text": [
            "\n",
            "\n",
            "\u001b[1m> Entering new AgentExecutor chain...\u001b[0m\n",
            "\u001b[32;1m\u001b[1;3m\u001b[0m\u001b[36;1m\u001b[1;3mNew Delhi\u001b[0m\u001b[32;1m\u001b[1;3m\u001b[0m\n",
            "Now I'm doing this!\n",
            "\u001b[33;1m\u001b[1;3mfoo\u001b[0m\u001b[32;1m\u001b[1;3m\u001b[0m\n",
            "\n",
            "\u001b[1m> Finished chain.\u001b[0m\n"
          ]
        },
        {
          "output_type": "execute_result",
          "data": {
            "text/plain": [
              "'bar'"
            ],
            "application/vnd.google.colaboratory.intrinsic+json": {
              "type": "string"
            }
          },
          "metadata": {},
          "execution_count": 29
        }
      ]
    },
    {
      "cell_type": "code",
      "source": [
        "class FakeAgent(BaseMultiActionAgent):\n",
        "    \"\"\"Fake Custom Agent.\"\"\"\n",
        "\n",
        "    @property\n",
        "    def input_keys(self):\n",
        "        return [\"input\"]\n",
        "\n",
        "    def plan(\n",
        "        self, intermediate_steps: List[Tuple[AgentAction, str]], **kwargs: Any\n",
        "    ) -> Union[List[AgentAction], AgentFinish]:\n",
        "        \"\"\"Given input, decide what to do.\n",
        "\n",
        "        Args:\n",
        "            intermediate_steps: Steps the LLM has taken to date,\n",
        "                along with observations.\n",
        "            **kwargs: User inputs.\n",
        "\n",
        "        Returns:\n",
        "            Action specifying what tool to use.\n",
        "        \"\"\"\n",
        "        input_text = kwargs[\"input\"].lower()  # Convert input text to lowercase for case-insensitive matching\n",
        "        if \"it ticket\" in input_text:\n",
        "            return AgentFinish(return_values={\"output\": \"You can raise the IT ticket through the Kuber IT portal.\"}, log=\"\")\n",
        "        else:\n",
        "            return AgentFinish(return_values={\"output\": \"I'm sorry, I couldn't understand your request.\"}, log=\"\")\n"
      ],
      "metadata": {
        "id": "EUSkqkBYpsJV"
      },
      "id": "EUSkqkBYpsJV",
      "execution_count": 28,
      "outputs": []
    },
    {
      "cell_type": "code",
      "source": [
        "agent_executor.run(\"how to raise IT ticket?\")"
      ],
      "metadata": {
        "colab": {
          "base_uri": "https://localhost:8080/",
          "height": 194
        },
        "id": "O_gVXrwbrvW8",
        "outputId": "43ee5ae2-978b-4db4-e058-04ef8ec04a58"
      },
      "id": "O_gVXrwbrvW8",
      "execution_count": 30,
      "outputs": [
        {
          "output_type": "stream",
          "name": "stdout",
          "text": [
            "\n",
            "\n",
            "\u001b[1m> Entering new AgentExecutor chain...\u001b[0m\n",
            "\u001b[32;1m\u001b[1;3m\u001b[0m\u001b[36;1m\u001b[1;3m['Raise Ticket is commonly used in IT support to request help or report an issue quickly and effectively. Clear communication with customer ...', 'Step 1: To raise a ticket click on “Need Help?” as shown in the below screenshot. ... Step 2: A form opens up fill the required information and click on save ...', 'Contact Cloud Technical Support · Cloud version, this is the site we need to go to to raise ticket (as shared by @Pablito ) · Get your 16-digit ...', '1. Go to the Help & Training Portal. 2. Login using your Salesforce or Marketing Cloud credentials. 3. Click Go on the \"My Success Hub\" tile. 4.', 'Step 3: Tracking & Analyzing the Tickets · View, track & analyze every support ticket raised. · Select a particular ticket and set the priority as ...', 'A ticket or support request can be created using three options: by the agent or the user on the web portal or by sending an email. Admin can control the ...', \"How to create a ticket? Link icon · Enter the following details: Subject, Requester's name, Requester's email, Assignee, Team. · Write your message. · Click “Send” ...\", 'Select the ticket type, and you will have to fill in the form to provide more details about the issue, question, or feature.']\u001b[0m\u001b[32;1m\u001b[1;3m\u001b[0m\n",
            "Now I'm doing this!\n",
            "\u001b[33;1m\u001b[1;3mfoo\u001b[0m\u001b[32;1m\u001b[1;3m\u001b[0m\n",
            "\n",
            "\u001b[1m> Finished chain.\u001b[0m\n"
          ]
        },
        {
          "output_type": "execute_result",
          "data": {
            "text/plain": [
              "'bar'"
            ],
            "application/vnd.google.colaboratory.intrinsic+json": {
              "type": "string"
            }
          },
          "metadata": {},
          "execution_count": 30
        }
      ]
    },
    {
      "cell_type": "code",
      "source": [],
      "metadata": {
        "id": "laqv3aG7r1cc"
      },
      "id": "laqv3aG7r1cc",
      "execution_count": null,
      "outputs": []
    }
  ],
  "metadata": {
    "kernelspec": {
      "display_name": "Python 3 (ipykernel)",
      "language": "python",
      "name": "python3"
    },
    "language_info": {
      "codemirror_mode": {
        "name": "ipython",
        "version": 3
      },
      "file_extension": ".py",
      "mimetype": "text/x-python",
      "name": "python",
      "nbconvert_exporter": "python",
      "pygments_lexer": "ipython3",
      "version": "3.11.3"
    },
    "vscode": {
      "interpreter": {
        "hash": "18784188d7ecd866c0586ac068b02361a6896dc3a29b64f5cc957f09c590acef"
      }
    },
    "colab": {
      "provenance": []
    }
  },
  "nbformat": 4,
  "nbformat_minor": 5
}