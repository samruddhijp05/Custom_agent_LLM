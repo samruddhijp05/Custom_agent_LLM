{
  "cells": [
    {
      "cell_type": "markdown",
      "id": "ba5f8741",
      "metadata": {
        "id": "ba5f8741"
      },
      "source": [
        "# Custom multi-action agent\n"
      ]
    },
    {
      "cell_type": "code",
      "source": [
        "!pip install langchain"
      ],
      "metadata": {
        "colab": {
          "base_uri": "https://localhost:8080/"
        },
        "id": "I2D85RKNcH2J",
        "outputId": "061da0c1-ca7e-4422-9e8e-a85ff6b932d9"
      },
      "id": "I2D85RKNcH2J",
      "execution_count": 1,
      "outputs": [
        {
          "output_type": "stream",
          "name": "stdout",
          "text": [
            "Collecting langchain\n",
            "  Downloading langchain-0.1.16-py3-none-any.whl (817 kB)\n",
            "\u001b[2K     \u001b[90m━━━━━━━━━━━━━━━━━━━━━━━━━━━━━━━━━━━━━━━━\u001b[0m \u001b[32m817.7/817.7 kB\u001b[0m \u001b[31m3.2 MB/s\u001b[0m eta \u001b[36m0:00:00\u001b[0m\n",
            "\u001b[?25hRequirement already satisfied: PyYAML>=5.3 in /usr/local/lib/python3.10/dist-packages (from langchain) (6.0.1)\n",
            "Requirement already satisfied: SQLAlchemy<3,>=1.4 in /usr/local/lib/python3.10/dist-packages (from langchain) (2.0.29)\n",
            "Requirement already satisfied: aiohttp<4.0.0,>=3.8.3 in /usr/local/lib/python3.10/dist-packages (from langchain) (3.9.3)\n",
            "Requirement already satisfied: async-timeout<5.0.0,>=4.0.0 in /usr/local/lib/python3.10/dist-packages (from langchain) (4.0.3)\n",
            "Collecting dataclasses-json<0.7,>=0.5.7 (from langchain)\n",
            "  Downloading dataclasses_json-0.6.4-py3-none-any.whl (28 kB)\n",
            "Collecting jsonpatch<2.0,>=1.33 (from langchain)\n",
            "  Downloading jsonpatch-1.33-py2.py3-none-any.whl (12 kB)\n",
            "Collecting langchain-community<0.1,>=0.0.32 (from langchain)\n",
            "  Downloading langchain_community-0.0.32-py3-none-any.whl (1.9 MB)\n",
            "\u001b[2K     \u001b[90m━━━━━━━━━━━━━━━━━━━━━━━━━━━━━━━━━━━━━━━━\u001b[0m \u001b[32m1.9/1.9 MB\u001b[0m \u001b[31m19.6 MB/s\u001b[0m eta \u001b[36m0:00:00\u001b[0m\n",
            "\u001b[?25hCollecting langchain-core<0.2.0,>=0.1.42 (from langchain)\n",
            "  Downloading langchain_core-0.1.42-py3-none-any.whl (287 kB)\n",
            "\u001b[2K     \u001b[90m━━━━━━━━━━━━━━━━━━━━━━━━━━━━━━━━━━━━━━━━\u001b[0m \u001b[32m287.5/287.5 kB\u001b[0m \u001b[31m10.0 MB/s\u001b[0m eta \u001b[36m0:00:00\u001b[0m\n",
            "\u001b[?25hCollecting langchain-text-splitters<0.1,>=0.0.1 (from langchain)\n",
            "  Downloading langchain_text_splitters-0.0.1-py3-none-any.whl (21 kB)\n",
            "Collecting langsmith<0.2.0,>=0.1.17 (from langchain)\n",
            "  Downloading langsmith-0.1.47-py3-none-any.whl (113 kB)\n",
            "\u001b[2K     \u001b[90m━━━━━━━━━━━━━━━━━━━━━━━━━━━━━━━━━━━━━━━━\u001b[0m \u001b[32m113.0/113.0 kB\u001b[0m \u001b[31m4.3 MB/s\u001b[0m eta \u001b[36m0:00:00\u001b[0m\n",
            "\u001b[?25hRequirement already satisfied: numpy<2,>=1 in /usr/local/lib/python3.10/dist-packages (from langchain) (1.25.2)\n",
            "Requirement already satisfied: pydantic<3,>=1 in /usr/local/lib/python3.10/dist-packages (from langchain) (2.6.4)\n",
            "Requirement already satisfied: requests<3,>=2 in /usr/local/lib/python3.10/dist-packages (from langchain) (2.31.0)\n",
            "Requirement already satisfied: tenacity<9.0.0,>=8.1.0 in /usr/local/lib/python3.10/dist-packages (from langchain) (8.2.3)\n",
            "Requirement already satisfied: aiosignal>=1.1.2 in /usr/local/lib/python3.10/dist-packages (from aiohttp<4.0.0,>=3.8.3->langchain) (1.3.1)\n",
            "Requirement already satisfied: attrs>=17.3.0 in /usr/local/lib/python3.10/dist-packages (from aiohttp<4.0.0,>=3.8.3->langchain) (23.2.0)\n",
            "Requirement already satisfied: frozenlist>=1.1.1 in /usr/local/lib/python3.10/dist-packages (from aiohttp<4.0.0,>=3.8.3->langchain) (1.4.1)\n",
            "Requirement already satisfied: multidict<7.0,>=4.5 in /usr/local/lib/python3.10/dist-packages (from aiohttp<4.0.0,>=3.8.3->langchain) (6.0.5)\n",
            "Requirement already satisfied: yarl<2.0,>=1.0 in /usr/local/lib/python3.10/dist-packages (from aiohttp<4.0.0,>=3.8.3->langchain) (1.9.4)\n",
            "Collecting marshmallow<4.0.0,>=3.18.0 (from dataclasses-json<0.7,>=0.5.7->langchain)\n",
            "  Downloading marshmallow-3.21.1-py3-none-any.whl (49 kB)\n",
            "\u001b[2K     \u001b[90m━━━━━━━━━━━━━━━━━━━━━━━━━━━━━━━━━━━━━━━━\u001b[0m \u001b[32m49.4/49.4 kB\u001b[0m \u001b[31m2.5 MB/s\u001b[0m eta \u001b[36m0:00:00\u001b[0m\n",
            "\u001b[?25hCollecting typing-inspect<1,>=0.4.0 (from dataclasses-json<0.7,>=0.5.7->langchain)\n",
            "  Downloading typing_inspect-0.9.0-py3-none-any.whl (8.8 kB)\n",
            "Collecting jsonpointer>=1.9 (from jsonpatch<2.0,>=1.33->langchain)\n",
            "  Downloading jsonpointer-2.4-py2.py3-none-any.whl (7.8 kB)\n",
            "Collecting packaging<24.0,>=23.2 (from langchain-core<0.2.0,>=0.1.42->langchain)\n",
            "  Downloading packaging-23.2-py3-none-any.whl (53 kB)\n",
            "\u001b[2K     \u001b[90m━━━━━━━━━━━━━━━━━━━━━━━━━━━━━━━━━━━━━━━━\u001b[0m \u001b[32m53.0/53.0 kB\u001b[0m \u001b[31m3.9 MB/s\u001b[0m eta \u001b[36m0:00:00\u001b[0m\n",
            "\u001b[?25hCollecting orjson<4.0.0,>=3.9.14 (from langsmith<0.2.0,>=0.1.17->langchain)\n",
            "  Downloading orjson-3.10.0-cp310-cp310-manylinux_2_17_x86_64.manylinux2014_x86_64.whl (144 kB)\n",
            "\u001b[2K     \u001b[90m━━━━━━━━━━━━━━━━━━━━━━━━━━━━━━━━━━━━━━━━\u001b[0m \u001b[32m144.8/144.8 kB\u001b[0m \u001b[31m2.4 MB/s\u001b[0m eta \u001b[36m0:00:00\u001b[0m\n",
            "\u001b[?25hRequirement already satisfied: annotated-types>=0.4.0 in /usr/local/lib/python3.10/dist-packages (from pydantic<3,>=1->langchain) (0.6.0)\n",
            "Requirement already satisfied: pydantic-core==2.16.3 in /usr/local/lib/python3.10/dist-packages (from pydantic<3,>=1->langchain) (2.16.3)\n",
            "Requirement already satisfied: typing-extensions>=4.6.1 in /usr/local/lib/python3.10/dist-packages (from pydantic<3,>=1->langchain) (4.11.0)\n",
            "Requirement already satisfied: charset-normalizer<4,>=2 in /usr/local/lib/python3.10/dist-packages (from requests<3,>=2->langchain) (3.3.2)\n",
            "Requirement already satisfied: idna<4,>=2.5 in /usr/local/lib/python3.10/dist-packages (from requests<3,>=2->langchain) (3.6)\n",
            "Requirement already satisfied: urllib3<3,>=1.21.1 in /usr/local/lib/python3.10/dist-packages (from requests<3,>=2->langchain) (2.0.7)\n",
            "Requirement already satisfied: certifi>=2017.4.17 in /usr/local/lib/python3.10/dist-packages (from requests<3,>=2->langchain) (2024.2.2)\n",
            "Requirement already satisfied: greenlet!=0.4.17 in /usr/local/lib/python3.10/dist-packages (from SQLAlchemy<3,>=1.4->langchain) (3.0.3)\n",
            "Collecting mypy-extensions>=0.3.0 (from typing-inspect<1,>=0.4.0->dataclasses-json<0.7,>=0.5.7->langchain)\n",
            "  Downloading mypy_extensions-1.0.0-py3-none-any.whl (4.7 kB)\n",
            "Installing collected packages: packaging, orjson, mypy-extensions, jsonpointer, typing-inspect, marshmallow, jsonpatch, langsmith, dataclasses-json, langchain-core, langchain-text-splitters, langchain-community, langchain\n",
            "  Attempting uninstall: packaging\n",
            "    Found existing installation: packaging 24.0\n",
            "    Uninstalling packaging-24.0:\n",
            "      Successfully uninstalled packaging-24.0\n",
            "Successfully installed dataclasses-json-0.6.4 jsonpatch-1.33 jsonpointer-2.4 langchain-0.1.16 langchain-community-0.0.32 langchain-core-0.1.42 langchain-text-splitters-0.0.1 langsmith-0.1.47 marshmallow-3.21.1 mypy-extensions-1.0.0 orjson-3.10.0 packaging-23.2 typing-inspect-0.9.0\n"
          ]
        }
      ]
    },
    {
      "cell_type": "code",
      "execution_count": 22,
      "id": "9af9734e",
      "metadata": {
        "id": "9af9734e"
      },
      "outputs": [],
      "source": [
        "from langchain.agents import AgentExecutor, BaseMultiActionAgent, Tool\n",
        "from langchain_community.utilities import SerpAPIWrapper"
      ]
    },
    {
      "cell_type": "code",
      "execution_count": 3,
      "id": "d7c4ebdc",
      "metadata": {
        "id": "d7c4ebdc"
      },
      "outputs": [],
      "source": [
        "def random_word(query: str) -> str:\n",
        "    print(\"\\nNow I'm doing this!\")\n",
        "    return \"foo\""
      ]
    },
    {
      "cell_type": "code",
      "source": [
        "import os"
      ],
      "metadata": {
        "id": "s9NpELsZomYa"
      },
      "id": "s9NpELsZomYa",
      "execution_count": 4,
      "outputs": []
    },
    {
      "cell_type": "code",
      "source": [
        "from google.colab import userdata\n",
        "SERPAPI_API_KEY=userdata.get('SERPAPI_API_KEY')"
      ],
      "metadata": {
        "id": "9-mFf0Ql-KX2"
      },
      "execution_count": 5,
      "outputs": [],
      "id": "9-mFf0Ql-KX2"
    },
    {
      "cell_type": "code",
      "source": [
        "os.environ[\"SERPAPI_API_KEY\"] = \"da17c0ef2d2f8363db481dace3c36bb05e06a9e4971028ec16bd4c98ede24c0d\""
      ],
      "metadata": {
        "id": "b4IjJdRdo-RL"
      },
      "id": "b4IjJdRdo-RL",
      "execution_count": 6,
      "outputs": []
    },
    {
      "cell_type": "code",
      "source": [
        "pip install google-search-results"
      ],
      "metadata": {
        "colab": {
          "base_uri": "https://localhost:8080/"
        },
        "id": "GVaGRvbIpX2J",
        "outputId": "8d515715-27fe-4872-d638-73f4141d7776"
      },
      "id": "GVaGRvbIpX2J",
      "execution_count": 16,
      "outputs": [
        {
          "output_type": "stream",
          "name": "stdout",
          "text": [
            "Requirement already satisfied: google-search-results in /usr/local/lib/python3.10/dist-packages (2.4.2)\n",
            "Requirement already satisfied: requests in /usr/local/lib/python3.10/dist-packages (from google-search-results) (2.31.0)\n",
            "Requirement already satisfied: charset-normalizer<4,>=2 in /usr/local/lib/python3.10/dist-packages (from requests->google-search-results) (3.3.2)\n",
            "Requirement already satisfied: idna<4,>=2.5 in /usr/local/lib/python3.10/dist-packages (from requests->google-search-results) (3.6)\n",
            "Requirement already satisfied: urllib3<3,>=1.21.1 in /usr/local/lib/python3.10/dist-packages (from requests->google-search-results) (2.0.7)\n",
            "Requirement already satisfied: certifi>=2017.4.17 in /usr/local/lib/python3.10/dist-packages (from requests->google-search-results) (2024.2.2)\n"
          ]
        }
      ]
    },
    {
      "cell_type": "code",
      "execution_count": 8,
      "id": "becda2a1",
      "metadata": {
        "id": "becda2a1"
      },
      "outputs": [],
      "source": [
        "search = SerpAPIWrapper()\n",
        "tools = [\n",
        "    Tool(\n",
        "        name=\"Search\",\n",
        "        func=search.run,\n",
        "        description=\"useful for when you need to answer questions about current events\",\n",
        "    ),\n",
        "    Tool(\n",
        "        name=\"RandomWord\",\n",
        "        func=random_word,\n",
        "        description=\"call this to get a random word.\",\n",
        "    ),\n",
        "]"
      ]
    },
    {
      "cell_type": "code",
      "execution_count": 9,
      "id": "a33e2f7e",
      "metadata": {
        "id": "a33e2f7e"
      },
      "outputs": [],
      "source": [
        "from typing import Any, List, Tuple, Union\n",
        "\n",
        "from langchain_core.agents import AgentAction, AgentFinish\n",
        "\n",
        "\n",
        "class FakeAgent(BaseMultiActionAgent):\n",
        "    \"\"\"Fake Custom Agent.\"\"\"\n",
        "\n",
        "    @property\n",
        "    def input_keys(self):\n",
        "        return [\"input\"]\n",
        "\n",
        "    def plan(\n",
        "        self, intermediate_steps: List[Tuple[AgentAction, str]], **kwargs: Any\n",
        "    ) -> Union[List[AgentAction], AgentFinish]:\n",
        "        \"\"\"Given input, decided what to do.\n",
        "\n",
        "        Args:\n",
        "            intermediate_steps: Steps the LLM has taken to date,\n",
        "                along with observations\n",
        "            **kwargs: User inputs.\n",
        "\n",
        "        Returns:\n",
        "            Action specifying what tool to use.\n",
        "        \"\"\"\n",
        "        if len(intermediate_steps) == 0:\n",
        "            return [\n",
        "                AgentAction(tool=\"Search\", tool_input=kwargs[\"input\"], log=\"\"),\n",
        "                AgentAction(tool=\"RandomWord\", tool_input=kwargs[\"input\"], log=\"\"),\n",
        "            ]\n",
        "        else:\n",
        "            return AgentFinish(return_values={\"output\": \"bar\"}, log=\"\")\n",
        "\n",
        "    async def aplan(\n",
        "        self, intermediate_steps: List[Tuple[AgentAction, str]], **kwargs: Any\n",
        "    ) -> Union[List[AgentAction], AgentFinish]:\n",
        "        \"\"\"Given input, decided what to do.\n",
        "\n",
        "        Args:\n",
        "            intermediate_steps: Steps the LLM has taken to date,\n",
        "                along with observations\n",
        "            **kwargs: User inputs.\n",
        "\n",
        "        Returns:\n",
        "            Action specifying what tool to use.\n",
        "        \"\"\"\n",
        "        if len(intermediate_steps) == 0:\n",
        "            return [\n",
        "                AgentAction(tool=\"Search\", tool_input=kwargs[\"input\"], log=\"\"),\n",
        "                AgentAction(tool=\"RandomWord\", tool_input=kwargs[\"input\"], log=\"\"),\n",
        "            ]\n",
        "        else:\n",
        "            return AgentFinish(return_values={\"output\": \"bar\"}, log=\"\")"
      ]
    },
    {
      "cell_type": "code",
      "execution_count": 28,
      "id": "655d72f6",
      "metadata": {
        "id": "655d72f6"
      },
      "outputs": [],
      "source": [
        "agent = FakeAgent()"
      ]
    },
    {
      "cell_type": "code",
      "execution_count": 11,
      "id": "490604e9",
      "metadata": {
        "id": "490604e9"
      },
      "outputs": [],
      "source": [
        "agent_executor = AgentExecutor.from_agent_and_tools(\n",
        "    agent=agent, tools=tools, verbose=True\n",
        ")"
      ]
    },
    {
      "cell_type": "code",
      "execution_count": 23,
      "id": "653b1617",
      "metadata": {
        "id": "653b1617",
        "outputId": "295de7ab-1a85-42d1-bbdb-e923dc388890",
        "colab": {
          "base_uri": "https://localhost:8080/",
          "height": 194
        }
      },
      "outputs": [
        {
          "output_type": "stream",
          "name": "stdout",
          "text": [
            "\n",
            "\n",
            "\u001b[1m> Entering new AgentExecutor chain...\u001b[0m\n",
            "\u001b[32;1m\u001b[1;3m\u001b[0m\u001b[36;1m\u001b[1;3mIn 2023, Canada's population jumped by over 1 million people for the first time in the country's history. The population now stands at 39.5 million and is set to pass the 40 million mark later this year.\u001b[0m\u001b[32;1m\u001b[1;3m\u001b[0m\n",
            "Now I'm doing this!\n",
            "\u001b[33;1m\u001b[1;3mfoo\u001b[0m\u001b[32;1m\u001b[1;3m\u001b[0m\n",
            "\n",
            "\u001b[1m> Finished chain.\u001b[0m\n"
          ]
        },
        {
          "output_type": "execute_result",
          "data": {
            "text/plain": [
              "'bar'"
            ],
            "application/vnd.google.colaboratory.intrinsic+json": {
              "type": "string"
            }
          },
          "metadata": {},
          "execution_count": 23
        }
      ],
      "source": [
        "agent_executor.run(\"How many people live in canada as of 2023?\")"
      ]
    },
    {
      "cell_type": "code",
      "execution_count": 13,
      "id": "adefb4c2",
      "metadata": {
        "id": "adefb4c2",
        "colab": {
          "base_uri": "https://localhost:8080/",
          "height": 174
        },
        "outputId": "a8b0dbae-e807-48c9-8681-5affb512c9f3"
      },
      "outputs": [
        {
          "output_type": "stream",
          "name": "stdout",
          "text": [
            "\n",
            "\n",
            "\u001b[1m> Entering new AgentExecutor chain...\u001b[0m\n",
            "\u001b[32;1m\u001b[1;3m\u001b[0m\u001b[36;1m\u001b[1;3m1,425,775,850\u001b[0m\u001b[32;1m\u001b[1;3m\u001b[0m\n",
            "Now I'm doing this!\n",
            "\u001b[33;1m\u001b[1;3mfoo\u001b[0m\u001b[32;1m\u001b[1;3m\u001b[0m\n",
            "\n",
            "\u001b[1m> Finished chain.\u001b[0m\n"
          ]
        },
        {
          "output_type": "execute_result",
          "data": {
            "text/plain": [
              "'bar'"
            ],
            "application/vnd.google.colaboratory.intrinsic+json": {
              "type": "string"
            }
          },
          "metadata": {},
          "execution_count": 13
        }
      ],
      "source": [
        "agent_executor.run(\"How many people live in India as of 2023?\")"
      ]
    },
    {
      "cell_type": "code",
      "source": [
        "agent_executor.run(\"what is the capital of india?\")"
      ],
      "metadata": {
        "colab": {
          "base_uri": "https://localhost:8080/",
          "height": 174
        },
        "id": "qXYUHYojpmF3",
        "outputId": "611c1eb3-8a02-4f23-a89f-b23d3be83ff2"
      },
      "id": "qXYUHYojpmF3",
      "execution_count": 24,
      "outputs": [
        {
          "output_type": "stream",
          "name": "stdout",
          "text": [
            "\n",
            "\n",
            "\u001b[1m> Entering new AgentExecutor chain...\u001b[0m\n",
            "\u001b[32;1m\u001b[1;3m\u001b[0m\u001b[36;1m\u001b[1;3mNew Delhi\u001b[0m\u001b[32;1m\u001b[1;3m\u001b[0m\n",
            "Now I'm doing this!\n",
            "\u001b[33;1m\u001b[1;3mfoo\u001b[0m\u001b[32;1m\u001b[1;3m\u001b[0m\n",
            "\n",
            "\u001b[1m> Finished chain.\u001b[0m\n"
          ]
        },
        {
          "output_type": "execute_result",
          "data": {
            "text/plain": [
              "'bar'"
            ],
            "application/vnd.google.colaboratory.intrinsic+json": {
              "type": "string"
            }
          },
          "metadata": {},
          "execution_count": 24
        }
      ]
    },
    {
      "cell_type": "code",
      "source": [
        "agent_executor.run(\"what is eiffel tower?\")"
      ],
      "metadata": {
        "colab": {
          "base_uri": "https://localhost:8080/",
          "height": 194
        },
        "id": "vqu-FPrNK0n3",
        "outputId": "02eab248-6646-419d-8a0b-8580954027d6"
      },
      "id": "vqu-FPrNK0n3",
      "execution_count": 46,
      "outputs": [
        {
          "output_type": "stream",
          "name": "stdout",
          "text": [
            "\n",
            "\n",
            "\u001b[1m> Entering new AgentExecutor chain...\u001b[0m\n",
            "\u001b[32;1m\u001b[1;3m\u001b[0m\u001b[36;1m\u001b[1;3m['The Eiffel Tower is a wrought-iron lattice tower on the Champ de Mars in Paris, France. It is named after the engineer Gustave Eiffel, whose company designed and built the tower from 1887 to 1889.', 'Eiffel Tower type: Tower in Paris, France.', 'Eiffel Tower entity_type: local_nav.', 'Eiffel Tower kgmid: /m/02j81.', 'Eiffel Tower place_id: ChIJLU7jZClu5kcR4PcOOO6p3I0.', 'Eiffel Tower located_in: Champ de Mars.', 'Eiffel Tower address: Champ de Mars, 5 Av. Anatole France, 75007 Paris, France.', 'Eiffel Tower height: 984′, 1,083′ to tip.', 'Eiffel Tower construction_started: January 26, 1887.', 'Eiffel Tower opened: March 31, 1889.', 'Eiffel Tower architects: Stephen Sauvestre, Émile Nouguier, Maurice Koechlin.', 'Eiffel Tower main_contractor: Compagnie des Etablissements Eiffel.', 'Eiffel Tower floor_count: 4 (3 Accessible + 1 Residual).', 'Eiffel Tower raw_hours: Open ⋅ Closes 10 - 45 PMMonday9 - 30 AM–10 - 45 PMTuesday9 - 30 AM–10 - 45 PMWednesday9 - 30 AM–10 - 45 PMThursday9 - 30 AM–10 - 45 PMFriday9 - 30 AM–10 - 45 PMSaturday9 - 30 AM–10 - 45 PMSunday9 - 30 AM–10 - 45 PMSuggest new hoursUnable to add this file. Please check that it is a valid photo..', 'Eiffel Tower coordinates: 48°51′29.6″N 2°17′40.2″E\\ufeff / \\ufeff48.858222°N 2.294500°E.', 'Eiffel Tower structural_engineer: Maurice Koechlin; Émile Nouguier.', 'Eiffel Tower lifts_elevators: 8.', 'Eiffel Tower merchant_description: \"Tour de fer puddlé située à Paris qui est devenu l\\'emblème de la ville lumière. Elle doit son nom à l\\'ingénieur Gustave Eiffel, qui en est le créateur. Elle a été inaugurée le 31 mars 1889, lors de l\\'Exposition universelle qui se déroulait à Paris la même année. Sa hauteur est de 330 mètres, en comptant les antennes disposées à son sommet.\".', 'The assembly of the Tower was a marvel of precision, as all chroniclers of the period agree. The construction work began in January 1887 and was finished on ...', 'The Eiffel Tower is a wrought-iron lattice tower on the Champ de Mars in Paris, France. It is named after the engineer Gustave Eiffel, whose company ...', 'From the beginning the Tower was an attraction, but in the 1920s it became a symbol of modernity and the avant-garde. Little by little, its image was associated ...', 'The Eiffel Tower was built by Gustave Eiffel for the 1889 Exposition Universelle, which was to celebrate the 100th year anniversary of the French Revolution.', 'The tower stands 300 meters (984 feet) high. It rests on a base that is 5 meters (17 feet) tall, and the TV antenna atop the tower gives it a total elevation of ...', 'Come and discover the Eiffel Tower on the only trip to the top of its kind in Europe, and let pure emotions carry you from the esplanade to the top.', 'The Eiffel Tower is a landmark in Paris. It was built between 1887 and 1889 for the Exposition Universelle (World Fair). It was supposed to be a temporary ...', \"The Eiffel tower history represents a part of national heritage. It's as been the symbol of France and Paris for decades.\", \"Completed in March 1889, it's one of the most recognizable monuments in the world. And the site, which is also known as the Iron Lady, receives nearly seven ...\"]\u001b[0m\u001b[32;1m\u001b[1;3m\u001b[0m\n",
            "Now I'm doing this!\n",
            "\u001b[33;1m\u001b[1;3mfoo\u001b[0m\u001b[32;1m\u001b[1;3m\u001b[0m\n",
            "\n",
            "\u001b[1m> Finished chain.\u001b[0m\n"
          ]
        },
        {
          "output_type": "execute_result",
          "data": {
            "text/plain": [
              "'bar'"
            ],
            "application/vnd.google.colaboratory.intrinsic+json": {
              "type": "string"
            }
          },
          "metadata": {},
          "execution_count": 46
        }
      ]
    },
    {
      "cell_type": "code",
      "source": [
        "from typing import Any, List, Tuple, Union\n",
        "from langchain_core.agents import AgentAction, AgentFinish\n",
        "\n",
        "class CompanyInfoAgent(BaseMultiActionAgent):\n",
        "    \"\"\"Custom Agent for Handling Company Information.\"\"\"\n",
        "\n",
        "    @property\n",
        "    def input_keys(self):\n",
        "        return [\"input\"]\n",
        "\n",
        "    def plan(\n",
        "        self, intermediate_steps: List[Tuple[AgentAction, str]], **kwargs: Any\n",
        "    ) -> Union[List[AgentAction], AgentFinish]:\n",
        "        \"\"\"Given input, decide what action to take.\n",
        "\n",
        "        Args:\n",
        "            intermediate_steps: Steps the LLM has taken to date,\n",
        "                along with observations.\n",
        "            **kwargs: User inputs.\n",
        "\n",
        "        Returns:\n",
        "            Action specifying what tool to use.\n",
        "        \"\"\"\n",
        "        input_text = kwargs[\"input\"].lower()  # Convert input text to lowercase for case-insensitive matching\n",
        "        if \"hr portal\" in input_text:\n",
        "            return AgentFinish(return_values={\"output\": \"You can access the HR portal at [HR portal URL].\"}, log=\"\")\n",
        "        elif \"employee portal\" in input_text:\n",
        "            return AgentFinish(return_values={\"output\": \"You can access the employee portal at [Employee portal URL].\"}, log=\"\")\n",
        "        elif \"company directory\" in input_text:\n",
        "            return AgentFinish(return_values={\"output\": \"You can access the company directory at [Company directory URL].\"}, log=\"\")\n",
        "        # Add more conditions for other company-related queries as needed\n",
        "        else:\n",
        "            return AgentFinish(return_values={\"output\": \"I'm sorry, I couldn't understand your request.\"}, log=\"\")\n"
      ],
      "metadata": {
        "id": "laqv3aG7r1cc"
      },
      "id": "laqv3aG7r1cc",
      "execution_count": 26,
      "outputs": []
    },
    {
      "cell_type": "code",
      "source": [
        "##Customized agent\n",
        "from typing import Any, List, Tuple, Union\n",
        "#from langchain_core.agents import AgentAction, AgentFinish, BaseMultiActionAgent\n",
        "\n",
        "class CompanyInfoAgent(BaseMultiActionAgent):\n",
        "    \"\"\"Custom Agent for Handling Company Information.\"\"\"\n",
        "\n",
        "    @property\n",
        "    def input_keys(self):\n",
        "        return [\"input\"]\n",
        "\n",
        "    def plan(\n",
        "        self, intermediate_steps: List[Tuple[AgentAction, str]], **kwargs: Any\n",
        "    ) -> Union[List[AgentAction], AgentFinish]:\n",
        "        \"\"\"Given input, decide what action to take.\n",
        "\n",
        "        Args:\n",
        "            intermediate_steps: Steps the LLM has taken to date,\n",
        "                along with observations.\n",
        "            **kwargs: User inputs.\n",
        "\n",
        "        Returns:\n",
        "            Action specifying what tool to use.\n",
        "        \"\"\"\n",
        "        input_text = kwargs[\"input\"].lower()  # Convert input text to lowercase for case-insensitive matching\n",
        "        if \"hr portal\" in input_text:\n",
        "            return AgentFinish(return_values={\"output\": \"You can access the portal Kubera for Hr related queries.\"}, log=\"\")\n",
        "        elif \"employee portal\" in input_text:\n",
        "            return AgentFinish(return_values={\"output\": \"You can access the employee portal Workday for all the queries.\"}, log=\"\")\n",
        "        elif \"company directory\" in input_text:\n",
        "            return AgentFinish(return_values={\"output\": \"You can access the company directory at [Company directory URL].\"}, log=\"\")\n",
        "        # Add more conditions for other company-related queries as needed\n",
        "        else:\n",
        "            return AgentFinish(return_values={\"output\": \"I'm sorry, I couldn't understand your request.\"}, log=\"\")\n",
        "\n",
        "    async def aplan(\n",
        "        self, intermediate_steps: List[Tuple[AgentAction, str]], **kwargs: Any\n",
        "    ) -> Union[List[AgentAction], AgentFinish]:\n",
        "        \"\"\"Given input, decide what action to take asynchronously.\n",
        "\n",
        "        Args:\n",
        "            intermediate_steps: Steps the LLM has taken to date,\n",
        "                along with observations.\n",
        "            **kwargs: User inputs.\n",
        "\n",
        "        Returns:\n",
        "            Action specifying what tool to use.\n",
        "        \"\"\"\n",
        "        return self.plan(intermediate_steps=intermediate_steps, **kwargs)\n"
      ],
      "metadata": {
        "id": "FUKhPv1cIyU2"
      },
      "id": "FUKhPv1cIyU2",
      "execution_count": 41,
      "outputs": []
    },
    {
      "cell_type": "code",
      "source": [
        "# Instantiate the custom agent\n",
        "agent = CompanyInfoAgent()\n",
        "\n"
      ],
      "metadata": {
        "id": "efDdWZ9xHXy4"
      },
      "id": "efDdWZ9xHXy4",
      "execution_count": 42,
      "outputs": []
    },
    {
      "cell_type": "code",
      "source": [
        "input_text = \"How do I access the HR portal?\"\n",
        "\n",
        "result = agent.plan(intermediate_steps=[], input=input_text)\n",
        "\n",
        "if isinstance(result, AgentFinish):\n",
        "    print(result.return_values[\"output\"])\n",
        "else:\n",
        "    # Handle unexpected result\n",
        "    print(\"Unexpected result from agent.\")"
      ],
      "metadata": {
        "colab": {
          "base_uri": "https://localhost:8080/"
        },
        "id": "hS7Oa2eWHwfu",
        "outputId": "5fae5809-a583-44e0-c08e-9bfbc8a80aab"
      },
      "id": "hS7Oa2eWHwfu",
      "execution_count": 43,
      "outputs": [
        {
          "output_type": "stream",
          "name": "stdout",
          "text": [
            "You can access the portal Kubera for Hr related queries.\n"
          ]
        }
      ]
    },
    {
      "cell_type": "code",
      "source": [
        "input_text = \"How do I access the employee portal?\"\n",
        "\n",
        "result = agent.plan(intermediate_steps=[], input=input_text)\n",
        "\n",
        "if isinstance(result, AgentFinish):\n",
        "    print(result.return_values[\"output\"])\n",
        "else:\n",
        "    # Handle unexpected result\n",
        "    print(\"Unexpected result from agent.\")"
      ],
      "metadata": {
        "colab": {
          "base_uri": "https://localhost:8080/"
        },
        "id": "5kK7klyTJTUG",
        "outputId": "8567ac6f-77b4-48a9-b1df-d227d81bba46"
      },
      "id": "5kK7klyTJTUG",
      "execution_count": 44,
      "outputs": [
        {
          "output_type": "stream",
          "name": "stdout",
          "text": [
            "You can access the employee portal Workday for all the queries.\n"
          ]
        }
      ]
    },
    {
      "cell_type": "code",
      "source": [
        "###text summarization agent"
      ],
      "metadata": {
        "id": "pwdECVlkJtRq"
      },
      "id": "pwdECVlkJtRq",
      "execution_count": null,
      "outputs": []
    },
    {
      "cell_type": "code",
      "source": [
        "class TextSummarizationAgent:\n",
        "    \"\"\"Agent for Text Summarization.\"\"\"\n",
        "\n",
        "    def summarize_text(self, input_text, ratio=0.2):\n",
        "        \"\"\"Summarize input text.\n",
        "\n",
        "        Args:\n",
        "            input_text (str): The input text to be summarized.\n",
        "            ratio (float): The ratio of sentences to be included in the summary (default is 0.2).\n",
        "\n",
        "        Returns:\n",
        "            summary (str): The summarized text.\n",
        "        \"\"\"\n",
        "        try:\n",
        "            summary = summarize(input_text, ratio=ratio)\n",
        "            return summary\n",
        "        except Exception as e:\n",
        "            print(\"Error occurred during text summarization:\", e)\n",
        "            return None\n",
        "\n",
        "    def summarize_eiffel_tower(self):\n",
        "        \"\"\"Summarize information about the Eiffel Tower.\"\"\"\n",
        "        eiffel_tower_info = \"\"\"\n",
        "            The Eiffel Tower is a wrought-iron lattice tower on the Champ de Mars in Paris, France.\n",
        "            It is named after the engineer Gustave Eiffel, whose company designed and built the tower.\n",
        "            Completed in 1889, it has become a global cultural icon of France and one of the most recognizable structures in the world.\n",
        "            The tower is 324 meters tall, about the same height as an 81-story building.\n",
        "            \"\"\"\n",
        "\n",
        "        return eiffel_tower_info\n",
        "\n",
        "# Instantiate the text summarization agent\n",
        "summarization_agent = TextSummarizationAgent()\n",
        "\n",
        "eiffel_tower_summary = summarization_agent.summarize_eiffel_tower()\n",
        "\n",
        "print(\"Summary about the Eiffel Tower:\")\n",
        "print(eiffel_tower_summary)\n"
      ],
      "metadata": {
        "colab": {
          "base_uri": "https://localhost:8080/"
        },
        "id": "gGmq16onKsXb",
        "outputId": "b26e81c1-f804-49a9-c6ca-b4b3ebcd05c7"
      },
      "id": "gGmq16onKsXb",
      "execution_count": 45,
      "outputs": [
        {
          "output_type": "stream",
          "name": "stdout",
          "text": [
            "Summary about the Eiffel Tower:\n",
            "\n",
            "            The Eiffel Tower is a wrought-iron lattice tower on the Champ de Mars in Paris, France. \n",
            "            It is named after the engineer Gustave Eiffel, whose company designed and built the tower.\n",
            "            Completed in 1889, it has become a global cultural icon of France and one of the most recognizable structures in the world.\n",
            "            The tower is 324 meters tall, about the same height as an 81-story building.\n",
            "            \n"
          ]
        }
      ]
    },
    {
      "cell_type": "code",
      "source": [
        "import sqlite3\n",
        "\n",
        "class DatabaseAgent:\n",
        "    \"\"\"Agent for interacting with a SQLite database.\"\"\"\n",
        "\n",
        "    def __init__(self, db_file):\n",
        "        \"\"\"Initialize the database connection.\"\"\"\n",
        "        self.db_file = db_file\n",
        "        self.connection = None\n",
        "        self.cursor = None\n",
        "\n",
        "    def connect(self):\n",
        "        \"\"\"Establish a connection to the SQLite database.\"\"\"\n",
        "        try:\n",
        "            self.connection = sqlite3.connect(self.db_file)\n",
        "            self.cursor = self.connection.cursor()\n",
        "            print(\"Database connection established.\")\n",
        "        except sqlite3.Error as e:\n",
        "            print(\"Error connecting to the database:\", e)\n",
        "\n",
        "    def close(self):\n",
        "        \"\"\"Close the database connection.\"\"\"\n",
        "        if self.connection:\n",
        "            self.connection.close()\n",
        "            print(\"Database connection closed.\")\n",
        "\n",
        "    def fetch_data(self, query):\n",
        "        \"\"\"Fetch data from the database based on the provided query.\"\"\"\n",
        "        try:\n",
        "            self.cursor.execute(query)\n",
        "            data = self.cursor.fetchall()\n",
        "            return data\n",
        "        except sqlite3.Error as e:\n",
        "            print(\"Error fetching data from the database:\", e)\n",
        "            return None\n",
        "\n",
        "if __name__ == \"__main__\":\n",
        "    # Initialize the database agent\n",
        "    db_agent = DatabaseAgent(\"test.db\")\n",
        "\n",
        "    db_agent.connect()\n",
        "\n",
        "    user_input = \"Eiffel Tower\"\n",
        "\n",
        "    # Fetch data related to user input\n",
        "    query = f\"SELECT * FROM landmarks WHERE name = '{user_input}'\"\n",
        "    result = db_agent.fetch_data(query)\n",
        "\n",
        "\n",
        "    if result:\n",
        "        print(\"Data related to user input:\", result)\n",
        "    else:\n",
        "        print(\"No data found.\")\n",
        "\n",
        "    db_agent.close()\n"
      ],
      "metadata": {
        "id": "V_GD7OfRKs_P"
      },
      "id": "V_GD7OfRKs_P",
      "execution_count": null,
      "outputs": []
    },
    {
      "cell_type": "code",
      "source": [
        "#\"CompanyInfoAgent\" to use information collected by another agent and answer a query,\n",
        "#we can design it to interact with the database or any other data source where relevant information is stored"
      ],
      "metadata": {
        "id": "w2bJv4f8L8AQ"
      },
      "id": "w2bJv4f8L8AQ",
      "execution_count": 48,
      "outputs": []
    },
    {
      "cell_type": "code",
      "source": [
        "class CompanyInfoAgent(BaseMultiActionAgent):\n",
        "    \"\"\"Custom Agent for Handling Company Information.\"\"\"\n",
        "\n",
        "    def __init__(self, db_agent):\n",
        "        \"\"\"Initialize the CompanyInfoAgent with a database agent.\"\"\"\n",
        "        super().__init__()\n",
        "        self.db_agent = db_agent\n",
        "\n",
        "    @property\n",
        "    def input_keys(self):\n",
        "        return [\"input\"]\n",
        "\n",
        "    def plan(\n",
        "        self, intermediate_steps: List[Tuple[AgentAction, str]], **kwargs: Any\n",
        "    ) -> Union[List[AgentAction], AgentFinish]:\n",
        "        \"\"\"Given input, decide what action to take.\n",
        "\n",
        "        Args:\n",
        "            intermediate_steps: Steps the LLM has taken to date,\n",
        "                along with observations.\n",
        "            **kwargs: User inputs.\n",
        "\n",
        "        Returns:\n",
        "            Action specifying what tool to use.\n",
        "        \"\"\"\n",
        "        input_text = kwargs[\"input\"].lower()\n",
        "        if \"hr portal\" in input_text:\n",
        "            # Use the database agent to fetch information about the HR portal\n",
        "            hr_portal_info = self.db_agent.fetch_hr_portal_info()\n",
        "            return AgentFinish(return_values={\"output\": hr_portal_info}, log=\"\")\n",
        "        elif \"employee portal\" in input_text:\n",
        "            # Use the database agent to fetch information about the employee portal\n",
        "            employee_portal_info = self.db_agent.fetch_employee_portal_info()\n",
        "            return AgentFinish(return_values={\"output\": employee_portal_info}, log=\"\")\n",
        "        elif \"company directory\" in input_text:\n",
        "            # Use the database agent to fetch information about the company directory\n",
        "            company_directory_info = self.db_agent.fetch_company_directory_info()\n",
        "            return AgentFinish(return_values={\"output\": company_directory_info}, log=\"\")\n",
        "        # we can add the more conditions if required here\n",
        "        else:\n",
        "            return AgentFinish(return_values={\"output\": \"I'm sorry, I couldn't understand your request.\"}, log=\"\")\n"
      ],
      "metadata": {
        "id": "vM3lyuOML_F1"
      },
      "id": "vM3lyuOML_F1",
      "execution_count": null,
      "outputs": []
    }
  ],
  "metadata": {
    "kernelspec": {
      "display_name": "Python 3 (ipykernel)",
      "language": "python",
      "name": "python3"
    },
    "language_info": {
      "codemirror_mode": {
        "name": "ipython",
        "version": 3
      },
      "file_extension": ".py",
      "mimetype": "text/x-python",
      "name": "python",
      "nbconvert_exporter": "python",
      "pygments_lexer": "ipython3",
      "version": "3.11.3"
    },
    "vscode": {
      "interpreter": {
        "hash": "18784188d7ecd866c0586ac068b02361a6896dc3a29b64f5cc957f09c590acef"
      }
    },
    "colab": {
      "provenance": []
    }
  },
  "nbformat": 4,
  "nbformat_minor": 5
}