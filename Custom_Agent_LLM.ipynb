{
  "cells": [
    {
      "cell_type": "markdown",
      "id": "ba5f8741",
      "metadata": {
        "id": "ba5f8741"
      },
      "source": [
        "# Custom multi-action agent\n",
        "\n",
        "This notebook goes through how to create your own custom agent.\n",
        "\n",
        "An agent consists of two parts:\n",
        "\n",
        "- Tools: The tools the agent has available to use.\n",
        "- The agent class itself: this decides which action to take.\n",
        "        \n",
        "        \n",
        "In this notebook we walk through how to create a custom agent that predicts/takes multiple steps at a time."
      ]
    },
    {
      "cell_type": "code",
      "source": [
        "!pip install langchain"
      ],
      "metadata": {
        "colab": {
          "base_uri": "https://localhost:8080/"
        },
        "id": "I2D85RKNcH2J",
        "outputId": "061da0c1-ca7e-4422-9e8e-a85ff6b932d9"
      },
      "id": "I2D85RKNcH2J",
      "execution_count": 1,
      "outputs": [
        {
          "output_type": "stream",
          "name": "stdout",
          "text": [
            "Collecting langchain\n",
            "  Downloading langchain-0.1.16-py3-none-any.whl (817 kB)\n",
            "\u001b[2K     \u001b[90m━━━━━━━━━━━━━━━━━━━━━━━━━━━━━━━━━━━━━━━━\u001b[0m \u001b[32m817.7/817.7 kB\u001b[0m \u001b[31m3.2 MB/s\u001b[0m eta \u001b[36m0:00:00\u001b[0m\n",
            "\u001b[?25hRequirement already satisfied: PyYAML>=5.3 in /usr/local/lib/python3.10/dist-packages (from langchain) (6.0.1)\n",
            "Requirement already satisfied: SQLAlchemy<3,>=1.4 in /usr/local/lib/python3.10/dist-packages (from langchain) (2.0.29)\n",
            "Requirement already satisfied: aiohttp<4.0.0,>=3.8.3 in /usr/local/lib/python3.10/dist-packages (from langchain) (3.9.3)\n",
            "Requirement already satisfied: async-timeout<5.0.0,>=4.0.0 in /usr/local/lib/python3.10/dist-packages (from langchain) (4.0.3)\n",
            "Collecting dataclasses-json<0.7,>=0.5.7 (from langchain)\n",
            "  Downloading dataclasses_json-0.6.4-py3-none-any.whl (28 kB)\n",
            "Collecting jsonpatch<2.0,>=1.33 (from langchain)\n",
            "  Downloading jsonpatch-1.33-py2.py3-none-any.whl (12 kB)\n",
            "Collecting langchain-community<0.1,>=0.0.32 (from langchain)\n",
            "  Downloading langchain_community-0.0.32-py3-none-any.whl (1.9 MB)\n",
            "\u001b[2K     \u001b[90m━━━━━━━━━━━━━━━━━━━━━━━━━━━━━━━━━━━━━━━━\u001b[0m \u001b[32m1.9/1.9 MB\u001b[0m \u001b[31m19.6 MB/s\u001b[0m eta \u001b[36m0:00:00\u001b[0m\n",
            "\u001b[?25hCollecting langchain-core<0.2.0,>=0.1.42 (from langchain)\n",
            "  Downloading langchain_core-0.1.42-py3-none-any.whl (287 kB)\n",
            "\u001b[2K     \u001b[90m━━━━━━━━━━━━━━━━━━━━━━━━━━━━━━━━━━━━━━━━\u001b[0m \u001b[32m287.5/287.5 kB\u001b[0m \u001b[31m10.0 MB/s\u001b[0m eta \u001b[36m0:00:00\u001b[0m\n",
            "\u001b[?25hCollecting langchain-text-splitters<0.1,>=0.0.1 (from langchain)\n",
            "  Downloading langchain_text_splitters-0.0.1-py3-none-any.whl (21 kB)\n",
            "Collecting langsmith<0.2.0,>=0.1.17 (from langchain)\n",
            "  Downloading langsmith-0.1.47-py3-none-any.whl (113 kB)\n",
            "\u001b[2K     \u001b[90m━━━━━━━━━━━━━━━━━━━━━━━━━━━━━━━━━━━━━━━━\u001b[0m \u001b[32m113.0/113.0 kB\u001b[0m \u001b[31m4.3 MB/s\u001b[0m eta \u001b[36m0:00:00\u001b[0m\n",
            "\u001b[?25hRequirement already satisfied: numpy<2,>=1 in /usr/local/lib/python3.10/dist-packages (from langchain) (1.25.2)\n",
            "Requirement already satisfied: pydantic<3,>=1 in /usr/local/lib/python3.10/dist-packages (from langchain) (2.6.4)\n",
            "Requirement already satisfied: requests<3,>=2 in /usr/local/lib/python3.10/dist-packages (from langchain) (2.31.0)\n",
            "Requirement already satisfied: tenacity<9.0.0,>=8.1.0 in /usr/local/lib/python3.10/dist-packages (from langchain) (8.2.3)\n",
            "Requirement already satisfied: aiosignal>=1.1.2 in /usr/local/lib/python3.10/dist-packages (from aiohttp<4.0.0,>=3.8.3->langchain) (1.3.1)\n",
            "Requirement already satisfied: attrs>=17.3.0 in /usr/local/lib/python3.10/dist-packages (from aiohttp<4.0.0,>=3.8.3->langchain) (23.2.0)\n",
            "Requirement already satisfied: frozenlist>=1.1.1 in /usr/local/lib/python3.10/dist-packages (from aiohttp<4.0.0,>=3.8.3->langchain) (1.4.1)\n",
            "Requirement already satisfied: multidict<7.0,>=4.5 in /usr/local/lib/python3.10/dist-packages (from aiohttp<4.0.0,>=3.8.3->langchain) (6.0.5)\n",
            "Requirement already satisfied: yarl<2.0,>=1.0 in /usr/local/lib/python3.10/dist-packages (from aiohttp<4.0.0,>=3.8.3->langchain) (1.9.4)\n",
            "Collecting marshmallow<4.0.0,>=3.18.0 (from dataclasses-json<0.7,>=0.5.7->langchain)\n",
            "  Downloading marshmallow-3.21.1-py3-none-any.whl (49 kB)\n",
            "\u001b[2K     \u001b[90m━━━━━━━━━━━━━━━━━━━━━━━━━━━━━━━━━━━━━━━━\u001b[0m \u001b[32m49.4/49.4 kB\u001b[0m \u001b[31m2.5 MB/s\u001b[0m eta \u001b[36m0:00:00\u001b[0m\n",
            "\u001b[?25hCollecting typing-inspect<1,>=0.4.0 (from dataclasses-json<0.7,>=0.5.7->langchain)\n",
            "  Downloading typing_inspect-0.9.0-py3-none-any.whl (8.8 kB)\n",
            "Collecting jsonpointer>=1.9 (from jsonpatch<2.0,>=1.33->langchain)\n",
            "  Downloading jsonpointer-2.4-py2.py3-none-any.whl (7.8 kB)\n",
            "Collecting packaging<24.0,>=23.2 (from langchain-core<0.2.0,>=0.1.42->langchain)\n",
            "  Downloading packaging-23.2-py3-none-any.whl (53 kB)\n",
            "\u001b[2K     \u001b[90m━━━━━━━━━━━━━━━━━━━━━━━━━━━━━━━━━━━━━━━━\u001b[0m \u001b[32m53.0/53.0 kB\u001b[0m \u001b[31m3.9 MB/s\u001b[0m eta \u001b[36m0:00:00\u001b[0m\n",
            "\u001b[?25hCollecting orjson<4.0.0,>=3.9.14 (from langsmith<0.2.0,>=0.1.17->langchain)\n",
            "  Downloading orjson-3.10.0-cp310-cp310-manylinux_2_17_x86_64.manylinux2014_x86_64.whl (144 kB)\n",
            "\u001b[2K     \u001b[90m━━━━━━━━━━━━━━━━━━━━━━━━━━━━━━━━━━━━━━━━\u001b[0m \u001b[32m144.8/144.8 kB\u001b[0m \u001b[31m2.4 MB/s\u001b[0m eta \u001b[36m0:00:00\u001b[0m\n",
            "\u001b[?25hRequirement already satisfied: annotated-types>=0.4.0 in /usr/local/lib/python3.10/dist-packages (from pydantic<3,>=1->langchain) (0.6.0)\n",
            "Requirement already satisfied: pydantic-core==2.16.3 in /usr/local/lib/python3.10/dist-packages (from pydantic<3,>=1->langchain) (2.16.3)\n",
            "Requirement already satisfied: typing-extensions>=4.6.1 in /usr/local/lib/python3.10/dist-packages (from pydantic<3,>=1->langchain) (4.11.0)\n",
            "Requirement already satisfied: charset-normalizer<4,>=2 in /usr/local/lib/python3.10/dist-packages (from requests<3,>=2->langchain) (3.3.2)\n",
            "Requirement already satisfied: idna<4,>=2.5 in /usr/local/lib/python3.10/dist-packages (from requests<3,>=2->langchain) (3.6)\n",
            "Requirement already satisfied: urllib3<3,>=1.21.1 in /usr/local/lib/python3.10/dist-packages (from requests<3,>=2->langchain) (2.0.7)\n",
            "Requirement already satisfied: certifi>=2017.4.17 in /usr/local/lib/python3.10/dist-packages (from requests<3,>=2->langchain) (2024.2.2)\n",
            "Requirement already satisfied: greenlet!=0.4.17 in /usr/local/lib/python3.10/dist-packages (from SQLAlchemy<3,>=1.4->langchain) (3.0.3)\n",
            "Collecting mypy-extensions>=0.3.0 (from typing-inspect<1,>=0.4.0->dataclasses-json<0.7,>=0.5.7->langchain)\n",
            "  Downloading mypy_extensions-1.0.0-py3-none-any.whl (4.7 kB)\n",
            "Installing collected packages: packaging, orjson, mypy-extensions, jsonpointer, typing-inspect, marshmallow, jsonpatch, langsmith, dataclasses-json, langchain-core, langchain-text-splitters, langchain-community, langchain\n",
            "  Attempting uninstall: packaging\n",
            "    Found existing installation: packaging 24.0\n",
            "    Uninstalling packaging-24.0:\n",
            "      Successfully uninstalled packaging-24.0\n",
            "Successfully installed dataclasses-json-0.6.4 jsonpatch-1.33 jsonpointer-2.4 langchain-0.1.16 langchain-community-0.0.32 langchain-core-0.1.42 langchain-text-splitters-0.0.1 langsmith-0.1.47 marshmallow-3.21.1 mypy-extensions-1.0.0 orjson-3.10.0 packaging-23.2 typing-inspect-0.9.0\n"
          ]
        }
      ]
    },
    {
      "cell_type": "code",
      "execution_count": 22,
      "id": "9af9734e",
      "metadata": {
        "id": "9af9734e"
      },
      "outputs": [],
      "source": [
        "from langchain.agents import AgentExecutor, BaseMultiActionAgent, Tool\n",
        "from langchain_community.utilities import SerpAPIWrapper"
      ]
    },
    {
      "cell_type": "code",
      "execution_count": 3,
      "id": "d7c4ebdc",
      "metadata": {
        "id": "d7c4ebdc"
      },
      "outputs": [],
      "source": [
        "def random_word(query: str) -> str:\n",
        "    print(\"\\nNow I'm doing this!\")\n",
        "    return \"foo\""
      ]
    },
    {
      "cell_type": "code",
      "source": [
        "import os"
      ],
      "metadata": {
        "id": "s9NpELsZomYa"
      },
      "id": "s9NpELsZomYa",
      "execution_count": 4,
      "outputs": []
    },
    {
      "cell_type": "code",
      "source": [
        "from google.colab import userdata\n",
        "SERPAPI_API_KEY=userdata.get('SERPAPI_API_KEY')"
      ],
      "metadata": {
        "id": "9-mFf0Ql-KX2"
      },
      "execution_count": 5,
      "outputs": [],
      "id": "9-mFf0Ql-KX2"
    },
    {
      "cell_type": "code",
      "source": [
        "os.environ[\"SERPAPI_API_KEY\"] = \"da17c0ef2d2f8363db481dace3c36bb05e06a9e4971028ec16bd4c98ede24c0d\""
      ],
      "metadata": {
        "id": "b4IjJdRdo-RL"
      },
      "id": "b4IjJdRdo-RL",
      "execution_count": 6,
      "outputs": []
    },
    {
      "cell_type": "code",
      "source": [
        "pip install google-search-results"
      ],
      "metadata": {
        "colab": {
          "base_uri": "https://localhost:8080/"
        },
        "id": "GVaGRvbIpX2J",
        "outputId": "8d515715-27fe-4872-d638-73f4141d7776"
      },
      "id": "GVaGRvbIpX2J",
      "execution_count": 16,
      "outputs": [
        {
          "output_type": "stream",
          "name": "stdout",
          "text": [
            "Requirement already satisfied: google-search-results in /usr/local/lib/python3.10/dist-packages (2.4.2)\n",
            "Requirement already satisfied: requests in /usr/local/lib/python3.10/dist-packages (from google-search-results) (2.31.0)\n",
            "Requirement already satisfied: charset-normalizer<4,>=2 in /usr/local/lib/python3.10/dist-packages (from requests->google-search-results) (3.3.2)\n",
            "Requirement already satisfied: idna<4,>=2.5 in /usr/local/lib/python3.10/dist-packages (from requests->google-search-results) (3.6)\n",
            "Requirement already satisfied: urllib3<3,>=1.21.1 in /usr/local/lib/python3.10/dist-packages (from requests->google-search-results) (2.0.7)\n",
            "Requirement already satisfied: certifi>=2017.4.17 in /usr/local/lib/python3.10/dist-packages (from requests->google-search-results) (2024.2.2)\n"
          ]
        }
      ]
    },
    {
      "cell_type": "code",
      "execution_count": 8,
      "id": "becda2a1",
      "metadata": {
        "id": "becda2a1"
      },
      "outputs": [],
      "source": [
        "search = SerpAPIWrapper()\n",
        "tools = [\n",
        "    Tool(\n",
        "        name=\"Search\",\n",
        "        func=search.run,\n",
        "        description=\"useful for when you need to answer questions about current events\",\n",
        "    ),\n",
        "    Tool(\n",
        "        name=\"RandomWord\",\n",
        "        func=random_word,\n",
        "        description=\"call this to get a random word.\",\n",
        "    ),\n",
        "]"
      ]
    },
    {
      "cell_type": "code",
      "execution_count": 9,
      "id": "a33e2f7e",
      "metadata": {
        "id": "a33e2f7e"
      },
      "outputs": [],
      "source": [
        "from typing import Any, List, Tuple, Union\n",
        "\n",
        "from langchain_core.agents import AgentAction, AgentFinish\n",
        "\n",
        "\n",
        "class FakeAgent(BaseMultiActionAgent):\n",
        "    \"\"\"Fake Custom Agent.\"\"\"\n",
        "\n",
        "    @property\n",
        "    def input_keys(self):\n",
        "        return [\"input\"]\n",
        "\n",
        "    def plan(\n",
        "        self, intermediate_steps: List[Tuple[AgentAction, str]], **kwargs: Any\n",
        "    ) -> Union[List[AgentAction], AgentFinish]:\n",
        "        \"\"\"Given input, decided what to do.\n",
        "\n",
        "        Args:\n",
        "            intermediate_steps: Steps the LLM has taken to date,\n",
        "                along with observations\n",
        "            **kwargs: User inputs.\n",
        "\n",
        "        Returns:\n",
        "            Action specifying what tool to use.\n",
        "        \"\"\"\n",
        "        if len(intermediate_steps) == 0:\n",
        "            return [\n",
        "                AgentAction(tool=\"Search\", tool_input=kwargs[\"input\"], log=\"\"),\n",
        "                AgentAction(tool=\"RandomWord\", tool_input=kwargs[\"input\"], log=\"\"),\n",
        "            ]\n",
        "        else:\n",
        "            return AgentFinish(return_values={\"output\": \"bar\"}, log=\"\")\n",
        "\n",
        "    async def aplan(\n",
        "        self, intermediate_steps: List[Tuple[AgentAction, str]], **kwargs: Any\n",
        "    ) -> Union[List[AgentAction], AgentFinish]:\n",
        "        \"\"\"Given input, decided what to do.\n",
        "\n",
        "        Args:\n",
        "            intermediate_steps: Steps the LLM has taken to date,\n",
        "                along with observations\n",
        "            **kwargs: User inputs.\n",
        "\n",
        "        Returns:\n",
        "            Action specifying what tool to use.\n",
        "        \"\"\"\n",
        "        if len(intermediate_steps) == 0:\n",
        "            return [\n",
        "                AgentAction(tool=\"Search\", tool_input=kwargs[\"input\"], log=\"\"),\n",
        "                AgentAction(tool=\"RandomWord\", tool_input=kwargs[\"input\"], log=\"\"),\n",
        "            ]\n",
        "        else:\n",
        "            return AgentFinish(return_values={\"output\": \"bar\"}, log=\"\")"
      ]
    },
    {
      "cell_type": "code",
      "execution_count": 28,
      "id": "655d72f6",
      "metadata": {
        "id": "655d72f6"
      },
      "outputs": [],
      "source": [
        "agent = FakeAgent()"
      ]
    },
    {
      "cell_type": "code",
      "execution_count": 11,
      "id": "490604e9",
      "metadata": {
        "id": "490604e9"
      },
      "outputs": [],
      "source": [
        "agent_executor = AgentExecutor.from_agent_and_tools(\n",
        "    agent=agent, tools=tools, verbose=True\n",
        ")"
      ]
    },
    {
      "cell_type": "code",
      "execution_count": 23,
      "id": "653b1617",
      "metadata": {
        "id": "653b1617",
        "outputId": "295de7ab-1a85-42d1-bbdb-e923dc388890",
        "colab": {
          "base_uri": "https://localhost:8080/",
          "height": 194
        }
      },
      "outputs": [
        {
          "output_type": "stream",
          "name": "stdout",
          "text": [
            "\n",
            "\n",
            "\u001b[1m> Entering new AgentExecutor chain...\u001b[0m\n",
            "\u001b[32;1m\u001b[1;3m\u001b[0m\u001b[36;1m\u001b[1;3mIn 2023, Canada's population jumped by over 1 million people for the first time in the country's history. The population now stands at 39.5 million and is set to pass the 40 million mark later this year.\u001b[0m\u001b[32;1m\u001b[1;3m\u001b[0m\n",
            "Now I'm doing this!\n",
            "\u001b[33;1m\u001b[1;3mfoo\u001b[0m\u001b[32;1m\u001b[1;3m\u001b[0m\n",
            "\n",
            "\u001b[1m> Finished chain.\u001b[0m\n"
          ]
        },
        {
          "output_type": "execute_result",
          "data": {
            "text/plain": [
              "'bar'"
            ],
            "application/vnd.google.colaboratory.intrinsic+json": {
              "type": "string"
            }
          },
          "metadata": {},
          "execution_count": 23
        }
      ],
      "source": [
        "agent_executor.run(\"How many people live in canada as of 2023?\")"
      ]
    },
    {
      "cell_type": "code",
      "execution_count": 13,
      "id": "adefb4c2",
      "metadata": {
        "id": "adefb4c2",
        "colab": {
          "base_uri": "https://localhost:8080/",
          "height": 174
        },
        "outputId": "a8b0dbae-e807-48c9-8681-5affb512c9f3"
      },
      "outputs": [
        {
          "output_type": "stream",
          "name": "stdout",
          "text": [
            "\n",
            "\n",
            "\u001b[1m> Entering new AgentExecutor chain...\u001b[0m\n",
            "\u001b[32;1m\u001b[1;3m\u001b[0m\u001b[36;1m\u001b[1;3m1,425,775,850\u001b[0m\u001b[32;1m\u001b[1;3m\u001b[0m\n",
            "Now I'm doing this!\n",
            "\u001b[33;1m\u001b[1;3mfoo\u001b[0m\u001b[32;1m\u001b[1;3m\u001b[0m\n",
            "\n",
            "\u001b[1m> Finished chain.\u001b[0m\n"
          ]
        },
        {
          "output_type": "execute_result",
          "data": {
            "text/plain": [
              "'bar'"
            ],
            "application/vnd.google.colaboratory.intrinsic+json": {
              "type": "string"
            }
          },
          "metadata": {},
          "execution_count": 13
        }
      ],
      "source": [
        "agent_executor.run(\"How many people live in India as of 2023?\")"
      ]
    },
    {
      "cell_type": "code",
      "source": [
        "agent_executor.run(\"what is the capital of india?\")"
      ],
      "metadata": {
        "colab": {
          "base_uri": "https://localhost:8080/",
          "height": 174
        },
        "id": "qXYUHYojpmF3",
        "outputId": "611c1eb3-8a02-4f23-a89f-b23d3be83ff2"
      },
      "id": "qXYUHYojpmF3",
      "execution_count": 24,
      "outputs": [
        {
          "output_type": "stream",
          "name": "stdout",
          "text": [
            "\n",
            "\n",
            "\u001b[1m> Entering new AgentExecutor chain...\u001b[0m\n",
            "\u001b[32;1m\u001b[1;3m\u001b[0m\u001b[36;1m\u001b[1;3mNew Delhi\u001b[0m\u001b[32;1m\u001b[1;3m\u001b[0m\n",
            "Now I'm doing this!\n",
            "\u001b[33;1m\u001b[1;3mfoo\u001b[0m\u001b[32;1m\u001b[1;3m\u001b[0m\n",
            "\n",
            "\u001b[1m> Finished chain.\u001b[0m\n"
          ]
        },
        {
          "output_type": "execute_result",
          "data": {
            "text/plain": [
              "'bar'"
            ],
            "application/vnd.google.colaboratory.intrinsic+json": {
              "type": "string"
            }
          },
          "metadata": {},
          "execution_count": 24
        }
      ]
    },
    {
      "cell_type": "code",
      "source": [
        "from typing import Any, List, Tuple, Union\n",
        "from langchain_core.agents import AgentAction, AgentFinish\n",
        "\n",
        "class CompanyInfoAgent(BaseMultiActionAgent):\n",
        "    \"\"\"Custom Agent for Handling Company Information.\"\"\"\n",
        "\n",
        "    @property\n",
        "    def input_keys(self):\n",
        "        return [\"input\"]\n",
        "\n",
        "    def plan(\n",
        "        self, intermediate_steps: List[Tuple[AgentAction, str]], **kwargs: Any\n",
        "    ) -> Union[List[AgentAction], AgentFinish]:\n",
        "        \"\"\"Given input, decide what action to take.\n",
        "\n",
        "        Args:\n",
        "            intermediate_steps: Steps the LLM has taken to date,\n",
        "                along with observations.\n",
        "            **kwargs: User inputs.\n",
        "\n",
        "        Returns:\n",
        "            Action specifying what tool to use.\n",
        "        \"\"\"\n",
        "        input_text = kwargs[\"input\"].lower()  # Convert input text to lowercase for case-insensitive matching\n",
        "        if \"hr portal\" in input_text:\n",
        "            return AgentFinish(return_values={\"output\": \"You can access the HR portal at [HR portal URL].\"}, log=\"\")\n",
        "        elif \"employee portal\" in input_text:\n",
        "            return AgentFinish(return_values={\"output\": \"You can access the employee portal at [Employee portal URL].\"}, log=\"\")\n",
        "        elif \"company directory\" in input_text:\n",
        "            return AgentFinish(return_values={\"output\": \"You can access the company directory at [Company directory URL].\"}, log=\"\")\n",
        "        # Add more conditions for other company-related queries as needed\n",
        "        else:\n",
        "            return AgentFinish(return_values={\"output\": \"I'm sorry, I couldn't understand your request.\"}, log=\"\")\n"
      ],
      "metadata": {
        "id": "laqv3aG7r1cc"
      },
      "id": "laqv3aG7r1cc",
      "execution_count": 26,
      "outputs": []
    },
    {
      "cell_type": "code",
      "source": [
        "from typing import Any, List, Tuple, Union\n",
        "#from langchain_core.agents import AgentAction, AgentFinish, BaseMultiActionAgent\n",
        "\n",
        "class CompanyInfoAgent(BaseMultiActionAgent):\n",
        "    \"\"\"Custom Agent for Handling Company Information.\"\"\"\n",
        "\n",
        "    @property\n",
        "    def input_keys(self):\n",
        "        return [\"input\"]\n",
        "\n",
        "    def plan(\n",
        "        self, intermediate_steps: List[Tuple[AgentAction, str]], **kwargs: Any\n",
        "    ) -> Union[List[AgentAction], AgentFinish]:\n",
        "        \"\"\"Given input, decide what action to take.\n",
        "\n",
        "        Args:\n",
        "            intermediate_steps: Steps the LLM has taken to date,\n",
        "                along with observations.\n",
        "            **kwargs: User inputs.\n",
        "\n",
        "        Returns:\n",
        "            Action specifying what tool to use.\n",
        "        \"\"\"\n",
        "        input_text = kwargs[\"input\"].lower()  # Convert input text to lowercase for case-insensitive matching\n",
        "        if \"hr portal\" in input_text:\n",
        "            return AgentFinish(return_values={\"output\": \"You can access the portal Kubera for Hr related queries.\"}, log=\"\")\n",
        "        elif \"employee portal\" in input_text:\n",
        "            return AgentFinish(return_values={\"output\": \"You can access the employee portal Workday for all the queries.\"}, log=\"\")\n",
        "        elif \"company directory\" in input_text:\n",
        "            return AgentFinish(return_values={\"output\": \"You can access the company directory at [Company directory URL].\"}, log=\"\")\n",
        "        # Add more conditions for other company-related queries as needed\n",
        "        else:\n",
        "            return AgentFinish(return_values={\"output\": \"I'm sorry, I couldn't understand your request.\"}, log=\"\")\n",
        "\n",
        "    async def aplan(\n",
        "        self, intermediate_steps: List[Tuple[AgentAction, str]], **kwargs: Any\n",
        "    ) -> Union[List[AgentAction], AgentFinish]:\n",
        "        \"\"\"Given input, decide what action to take asynchronously.\n",
        "\n",
        "        Args:\n",
        "            intermediate_steps: Steps the LLM has taken to date,\n",
        "                along with observations.\n",
        "            **kwargs: User inputs.\n",
        "\n",
        "        Returns:\n",
        "            Action specifying what tool to use.\n",
        "        \"\"\"\n",
        "        return self.plan(intermediate_steps=intermediate_steps, **kwargs)\n"
      ],
      "metadata": {
        "id": "FUKhPv1cIyU2"
      },
      "id": "FUKhPv1cIyU2",
      "execution_count": 41,
      "outputs": []
    },
    {
      "cell_type": "code",
      "source": [
        "# Instantiate the custom agent\n",
        "agent = CompanyInfoAgent()\n",
        "\n"
      ],
      "metadata": {
        "id": "efDdWZ9xHXy4"
      },
      "id": "efDdWZ9xHXy4",
      "execution_count": 42,
      "outputs": []
    },
    {
      "cell_type": "code",
      "source": [
        "input_text = \"How do I access the HR portal?\"\n",
        "\n",
        "result = agent.plan(intermediate_steps=[], input=input_text)\n",
        "\n",
        "if isinstance(result, AgentFinish):\n",
        "    print(result.return_values[\"output\"])\n",
        "else:\n",
        "    # Handle unexpected result\n",
        "    print(\"Unexpected result from agent.\")"
      ],
      "metadata": {
        "colab": {
          "base_uri": "https://localhost:8080/"
        },
        "id": "hS7Oa2eWHwfu",
        "outputId": "5fae5809-a583-44e0-c08e-9bfbc8a80aab"
      },
      "id": "hS7Oa2eWHwfu",
      "execution_count": 43,
      "outputs": [
        {
          "output_type": "stream",
          "name": "stdout",
          "text": [
            "You can access the portal Kubera for Hr related queries.\n"
          ]
        }
      ]
    },
    {
      "cell_type": "code",
      "source": [
        "input_text = \"How do I access the employee portal?\"\n",
        "\n",
        "result = agent.plan(intermediate_steps=[], input=input_text)\n",
        "\n",
        "if isinstance(result, AgentFinish):\n",
        "    print(result.return_values[\"output\"])\n",
        "else:\n",
        "    # Handle unexpected result\n",
        "    print(\"Unexpected result from agent.\")"
      ],
      "metadata": {
        "colab": {
          "base_uri": "https://localhost:8080/"
        },
        "id": "5kK7klyTJTUG",
        "outputId": "8567ac6f-77b4-48a9-b1df-d227d81bba46"
      },
      "id": "5kK7klyTJTUG",
      "execution_count": 44,
      "outputs": [
        {
          "output_type": "stream",
          "name": "stdout",
          "text": [
            "You can access the employee portal Workday for all the queries.\n"
          ]
        }
      ]
    },
    {
      "cell_type": "code",
      "source": [],
      "metadata": {
        "id": "pwdECVlkJtRq"
      },
      "id": "pwdECVlkJtRq",
      "execution_count": null,
      "outputs": []
    }
  ],
  "metadata": {
    "kernelspec": {
      "display_name": "Python 3 (ipykernel)",
      "language": "python",
      "name": "python3"
    },
    "language_info": {
      "codemirror_mode": {
        "name": "ipython",
        "version": 3
      },
      "file_extension": ".py",
      "mimetype": "text/x-python",
      "name": "python",
      "nbconvert_exporter": "python",
      "pygments_lexer": "ipython3",
      "version": "3.11.3"
    },
    "vscode": {
      "interpreter": {
        "hash": "18784188d7ecd866c0586ac068b02361a6896dc3a29b64f5cc957f09c590acef"
      }
    },
    "colab": {
      "provenance": []
    }
  },
  "nbformat": 4,
  "nbformat_minor": 5
}